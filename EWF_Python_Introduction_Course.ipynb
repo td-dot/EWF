{
  "nbformat": 4,
  "nbformat_minor": 0,
  "metadata": {
    "colab": {
      "provenance": [],
      "include_colab_link": true
    },
    "kernelspec": {
      "display_name": "Python 3",
      "name": "python3"
    }
  },
  "cells": [
    {
      "cell_type": "markdown",
      "metadata": {
        "id": "view-in-github",
        "colab_type": "text"
      },
      "source": [
        "<a href=\"https://colab.research.google.com/github/td-dot/EWF/blob/main/EWF_Python_Introduction_Course.ipynb\" target=\"_parent\"><img src=\"https://colab.research.google.com/assets/colab-badge.svg\" alt=\"Open In Colab\"/></a>"
      ]
    },
    {
      "cell_type": "markdown",
      "metadata": {
        "id": "5fCEDCU_qrC0"
      },
      "source": [
        "#**EWF - Python Introduction Course**\n",
        "\n",
        "Welcome to our EWF Python Introduction Course. The following tasks will help you understand and use Python. Python can be an extremely valuable tool for EWF, your Bachelor thesis or any other projects.\n",
        "\n",
        "Please rease and answer all tasks carefully.\n",
        "Whenever you encounter a \"**...**\" please try to replace it with your own code. **This is task-based learning - you will have to google a lot!**\n",
        "\n",
        "\n",
        "Good luck!\n"
      ]
    },
    {
      "cell_type": "markdown",
      "metadata": {
        "id": "GJBs_flRovLc"
      },
      "source": [
        "##**First Steps**\n"
      ]
    },
    {
      "cell_type": "markdown",
      "metadata": {
        "id": "p4NFErGadias"
      },
      "source": [
        "**Print Function**\n",
        "\n",
        "By using the print statement, we're able to output text.\n",
        "\n",
        "*Please run the following code*:"
      ]
    },
    {
      "cell_type": "code",
      "metadata": {
        "id": "gJr_9dXGpJ05"
      },
      "source": [
        "print ('Hello World')"
      ],
      "execution_count": null,
      "outputs": []
    },
    {
      "cell_type": "markdown",
      "metadata": {
        "id": "2fhs6GZ4qFMx"
      },
      "source": [
        "<strong>Basic Operations</strong>\n",
        "\n",
        "With Python, you can easily do some calculations.\n",
        "\n",
        "*Tap around to perform an addition with a result of 6:*"
      ]
    },
    {
      "cell_type": "code",
      "metadata": {
        "id": "c6i-78HEXGNu"
      },
      "source": [
        "3"
      ],
      "execution_count": null,
      "outputs": []
    },
    {
      "cell_type": "markdown",
      "metadata": {
        "id": "8QlK460xXJqJ"
      },
      "source": [
        "*Use parantheses to determine which operations are performed first - try to get 40:*"
      ]
    },
    {
      "cell_type": "code",
      "metadata": {
        "id": "-gE-Ez1qtyIA"
      },
      "source": [
        "4*4+6"
      ],
      "execution_count": null,
      "outputs": []
    },
    {
      "cell_type": "markdown",
      "metadata": {
        "id": "bX2Xoej0WmJn"
      },
      "source": [
        "*Try to divide by 2 to get a result of 2.00*\n",
        "\n",
        "**<strong><font color='blue'> Side Note:** we call 2.00 a float variable, while 2 is called an integer variable. Despite seemingly being the same, Python sees them as different datatypes which for example leads to differnt memory needs.</font></strong>"
      ]
    },
    {
      "cell_type": "code",
      "metadata": {
        "id": "4ty9qsqVWVq7"
      },
      "source": [
        "4"
      ],
      "execution_count": null,
      "outputs": []
    },
    {
      "cell_type": "markdown",
      "metadata": {
        "id": "Wt_Y_ZWA9miH"
      },
      "source": [
        "**Comments**\n",
        "\n",
        "You can comment your code, to explain something for later reference.\n",
        "\n",
        "*Please turn \"This is just a comment\" into a proper comment.*"
      ]
    },
    {
      "cell_type": "code",
      "metadata": {
        "id": "ssxN9tka9-2o"
      },
      "source": [
        "8 + 8\n",
        "This is just a comment"
      ],
      "execution_count": null,
      "outputs": []
    },
    {
      "cell_type": "markdown",
      "metadata": {
        "id": "4i-XuhKW3owN"
      },
      "source": [
        "**Storing Values**\n",
        "\n",
        "You can store values in variables.\n",
        "\n",
        "*Please complete the code to generate 40 as an output.*"
      ]
    },
    {
      "cell_type": "code",
      "metadata": {
        "id": "T29nLva63oG7",
        "outputId": "e84439c6-36a6-4092-9fde-8dbd82b71f02",
        "colab": {
          "base_uri": "https://localhost:8080/"
        }
      },
      "source": [
        "eingabe = 10\n",
        "\n",
        "ergebnis = eingabe * 4\n",
        "\n",
        "print(ergebnis)"
      ],
      "execution_count": 2,
      "outputs": [
        {
          "output_type": "stream",
          "name": "stdout",
          "text": [
            "40\n"
          ]
        }
      ]
    },
    {
      "cell_type": "markdown",
      "metadata": {
        "id": "OSqSFbg6jRw7"
      },
      "source": [
        "##**Data Types**"
      ]
    },
    {
      "cell_type": "markdown",
      "metadata": {
        "id": "KA7WEmmTjbRl"
      },
      "source": [
        "If Python handles data, it has to somehow turn it into 1s and 0s. Depending on the type of data, Python uses different internal representations. It is therefore very important, to always make sure your data has the right data type."
      ]
    },
    {
      "cell_type": "markdown",
      "metadata": {
        "id": "fxXZEWORXump"
      },
      "source": [
        "**Integers**\n",
        "\n",
        "Integers are whole numbers like:\n",
        "\n",
        "- 5\n",
        "- 3\n"
      ]
    },
    {
      "cell_type": "markdown",
      "metadata": {
        "id": "SpL66XSAV3PW"
      },
      "source": [
        "**Floats**\n",
        "\n",
        "Numbers that aren't integers are represented as floats in Python (\"a floating point number\"). Some examples are:\n",
        "- 0.8\n",
        "- -5.346\n",
        "\n",
        "How to create a float?\n",
        "By entering a number with a decimal point, or by using operations such as division on integers as well as operations on a float and an integer.\n",
        "\n",
        "*Please build a float dividing 12 by 4 and try to convert it back into an integer (should be 3 not 3.0):*"
      ]
    },
    {
      "cell_type": "code",
      "metadata": {
        "id": "pN81xZjUXB5Z",
        "outputId": "6c64e341-6874-46a8-98a2-61f6e564f25a",
        "colab": {
          "base_uri": "https://localhost:8080/"
        }
      },
      "source": [
        "# create float\n",
        "print(12/4)\n",
        "# turn it into an integer\n",
        "print(int(12/4))"
      ],
      "execution_count": 1,
      "outputs": [
        {
          "output_type": "stream",
          "name": "stdout",
          "text": [
            "3.0\n",
            "3\n"
          ]
        }
      ]
    },
    {
      "cell_type": "markdown",
      "metadata": {
        "id": "VprZLg-EY5s-"
      },
      "source": [
        "**Strings**\n",
        "\n",
        "You have to use a string if you want to use text in Python. It's one of the basic things that store text like:\n",
        "\n",
        "- Python is fun\n",
        "- I love Data Science\n",
        "\n",
        "How to create a string? By entering text between two single or double quotation marks.\n",
        "\n",
        "*Run the code to create a string:*"
      ]
    },
    {
      "cell_type": "code",
      "metadata": {
        "id": "98w-iUSGZ6ko",
        "outputId": "2e4f1f20-eff4-440e-8b58-945e07700b7b",
        "colab": {
          "base_uri": "https://localhost:8080/",
          "height": 36
        }
      },
      "source": [
        "\"Python is fun\""
      ],
      "execution_count": 3,
      "outputs": [
        {
          "output_type": "execute_result",
          "data": {
            "text/plain": [
              "'Python is fun'"
            ],
            "application/vnd.google.colaboratory.intrinsic+json": {
              "type": "string"
            }
          },
          "metadata": {},
          "execution_count": 3
        }
      ]
    },
    {
      "cell_type": "markdown",
      "metadata": {
        "id": "VeQ8nTgbbyur"
      },
      "source": [
        "*What's wrong with the following string? Please correct it so that the type is 'str' and there is no error message!*"
      ]
    },
    {
      "cell_type": "code",
      "metadata": {
        "id": "zFxpt_tYaiPd",
        "outputId": "346cd3a6-f3b1-424b-95bb-cfc9e97c83a2",
        "colab": {
          "base_uri": "https://localhost:8080/"
        }
      },
      "source": [
        "type(\"Lisa's brother likes good food.\")"
      ],
      "execution_count": 4,
      "outputs": [
        {
          "output_type": "execute_result",
          "data": {
            "text/plain": [
              "str"
            ]
          },
          "metadata": {},
          "execution_count": 4
        }
      ]
    },
    {
      "cell_type": "markdown",
      "metadata": {
        "id": "We12AcbmdcPU"
      },
      "source": [
        "**Booleans & Comparisons**\n",
        "\n",
        "You've already learned about integers, floats and strings. In Python, another type is the Boolean type. It has two values: True and False. By comparing values (using the equal operator ==), you can create Booleans.\n",
        "\n",
        "*Please define my_boolean as True:*  "
      ]
    },
    {
      "cell_type": "code",
      "metadata": {
        "id": "S7bs7aEXgjML",
        "outputId": "f2ae4215-41a8-46b3-cf85-8a91db099c39",
        "colab": {
          "base_uri": "https://localhost:8080/"
        }
      },
      "source": [
        "my_boolean = False\n",
        "print(type(my_boolean))"
      ],
      "execution_count": 7,
      "outputs": [
        {
          "output_type": "stream",
          "name": "stdout",
          "text": [
            "<class 'bool'>\n"
          ]
        }
      ]
    },
    {
      "cell_type": "markdown",
      "metadata": {
        "id": "G-Uv7DJigzb9"
      },
      "source": [
        "*Please compare two numbers and see if you get the \"True\" statement:*"
      ]
    },
    {
      "cell_type": "code",
      "metadata": {
        "id": "As8PeDsQnU3P",
        "outputId": "baeb6f8c-16e7-48e2-e5ed-c295b27f0273",
        "colab": {
          "base_uri": "https://localhost:8080/"
        }
      },
      "source": [
        "5!=10"
      ],
      "execution_count": 10,
      "outputs": [
        {
          "output_type": "execute_result",
          "data": {
            "text/plain": [
              "True"
            ]
          },
          "metadata": {},
          "execution_count": 10
        }
      ]
    },
    {
      "cell_type": "markdown",
      "source": [
        "!= -> ungleich"
      ],
      "metadata": {
        "id": "Vl6WN2lUl_kw"
      }
    },
    {
      "cell_type": "markdown",
      "metadata": {
        "id": "crYwcDotoYtw"
      },
      "source": [
        "In Python, you can also use operators (> and <) to determine whether one number (float or integer) is smaller than or greater than another.\n",
        "\n",
        "*Tap around (change the ...) and generate one True as well as one False statement:*"
      ]
    },
    {
      "cell_type": "code",
      "metadata": {
        "id": "RV-FHVego3uL",
        "outputId": "3e53b053-beb7-4d83-ab2a-57a8ac0bf694",
        "colab": {
          "base_uri": "https://localhost:8080/"
        }
      },
      "source": [
        "(24<16)"
      ],
      "execution_count": 11,
      "outputs": [
        {
          "output_type": "execute_result",
          "data": {
            "text/plain": [
              "False"
            ]
          },
          "metadata": {},
          "execution_count": 11
        }
      ]
    },
    {
      "cell_type": "markdown",
      "metadata": {
        "id": "UdRyKR44dcNI"
      },
      "source": [
        "##**Control Structures**\n"
      ]
    },
    {
      "cell_type": "markdown",
      "metadata": {
        "id": "AX8KEqV7d2jR"
      },
      "source": [
        "**if&else statement**"
      ]
    },
    {
      "cell_type": "markdown",
      "metadata": {
        "id": "hdtFz5UXptLZ"
      },
      "source": [
        "<img src=\"https://www.tutorialspoint.com/python/images/if_else_statement.jpg\" width=300 height=300>\n",
        "\n",
        "*Now it's your turn! Change the following code (...) to generate \"else\":*"
      ]
    },
    {
      "cell_type": "code",
      "metadata": {
        "id": "E6xzkR1ukfO0",
        "outputId": "a7974b07-4a45-4682-afa6-c25a69e98cc4",
        "colab": {
          "base_uri": "https://localhost:8080/",
          "height": 106
        }
      },
      "source": [
        "if 2 +4 == 4:#true\n",
        "  if 3 * 2 == 9 : #false\n",
        "    print (\"if\")\n",
        "    else:\n",
        "    print (\"else\")"
      ],
      "execution_count": 18,
      "outputs": [
        {
          "output_type": "error",
          "ename": "SyntaxError",
          "evalue": "invalid syntax (<ipython-input-18-905e30ed901d>, line 4)",
          "traceback": [
            "\u001b[0;36m  File \u001b[0;32m\"<ipython-input-18-905e30ed901d>\"\u001b[0;36m, line \u001b[0;32m4\u001b[0m\n\u001b[0;31m    else:\u001b[0m\n\u001b[0m    ^\u001b[0m\n\u001b[0;31mSyntaxError\u001b[0m\u001b[0;31m:\u001b[0m invalid syntax\n"
          ]
        }
      ]
    },
    {
      "cell_type": "markdown",
      "metadata": {
        "id": "datsEgDB4iXQ"
      },
      "source": [
        "**<strong><font color='blue'> Side Note:**  Indentations are very important in Python, as they structure your code. </font></strong>"
      ]
    },
    {
      "cell_type": "markdown",
      "metadata": {
        "id": "40mdnbNieJTh"
      },
      "source": [
        "**Boolean Logic**\n",
        "\n",
        "Boolean Logic is used to make more complicated conditions for if statements that rely on more than one condition. The Boolean operators are **and, or and not**."
      ]
    },
    {
      "cell_type": "markdown",
      "metadata": {
        "id": "OdysNNSonWA0"
      },
      "source": [
        "*Tap around to get a false statement:*"
      ]
    },
    {
      "cell_type": "code",
      "metadata": {
        "id": "7htGUSgym9KX",
        "outputId": "173b5171-a514-4ee0-ddb4-fa0853ebcf64",
        "colab": {
          "base_uri": "https://localhost:8080/"
        }
      },
      "source": [
        "print ( 2 < 3 or 2 == 6 )"
      ],
      "execution_count": 21,
      "outputs": [
        {
          "output_type": "stream",
          "name": "stdout",
          "text": [
            "True\n"
          ]
        }
      ]
    },
    {
      "cell_type": "markdown",
      "metadata": {
        "id": "dHpbmcEBn_34"
      },
      "source": [
        "*Change and correct the following code to print \"Hi\":*"
      ]
    },
    {
      "cell_type": "code",
      "metadata": {
        "id": "XlAjNuIqoKgs",
        "outputId": "f4e2f937-2a2a-49c3-b818-b74340d69b06",
        "colab": {
          "base_uri": "https://localhost:8080/"
        }
      },
      "source": [
        "age = 30\n",
        "money = 400\n",
        "if age > 20 and money > 50 :\n",
        "  print(\"Hi\")"
      ],
      "execution_count": 22,
      "outputs": [
        {
          "output_type": "stream",
          "name": "stdout",
          "text": [
            "Hi\n"
          ]
        }
      ]
    },
    {
      "cell_type": "markdown",
      "metadata": {
        "id": "0JOau1ITeOBp"
      },
      "source": [
        "**Lists**\n",
        "\n",
        "Lists are used to store multiple items. By using square brackets with commas separating items, you can create a list.\n",
        "\n",
        "*Try to print the first argument of the list (\"Hello\").*"
      ]
    },
    {
      "cell_type": "code",
      "metadata": {
        "id": "zjovDwhNlYFn",
        "outputId": "c62de9a7-d4cb-4c87-d13d-6c0b81181d83",
        "colab": {
          "base_uri": "https://localhost:8080/"
        }
      },
      "source": [
        "words =  [\"Hello\", \"world\", \"!\"]\n",
        "print (words[0])"
      ],
      "execution_count": 23,
      "outputs": [
        {
          "output_type": "stream",
          "name": "stdout",
          "text": [
            "Hello\n"
          ]
        }
      ]
    },
    {
      "cell_type": "markdown",
      "metadata": {
        "id": "F8VgN4fgrdDZ"
      },
      "source": [
        "*Change the code to create a list and print its 3rd element:*"
      ]
    },
    {
      "cell_type": "code",
      "metadata": {
        "id": "d5rWZJjOrgwC",
        "outputId": "3a9c9016-de19-4160-8cc5-77bfab4d3fe2",
        "colab": {
          "base_uri": "https://localhost:8080/"
        }
      },
      "source": [
        "the_list = [\"33\", \"66\", \"99\"]\n",
        "print(the_list[2])"
      ],
      "execution_count": 25,
      "outputs": [
        {
          "output_type": "stream",
          "name": "stdout",
          "text": [
            "99\n"
          ]
        }
      ]
    },
    {
      "cell_type": "markdown",
      "metadata": {
        "id": "UEmilTRFecFV"
      },
      "source": [
        "**Loops**\n",
        "\n",
        "A for loop is used to repeat a block of code multiple times. It is common to use the for loop when the number of iterations is fixed (e.g. iterating over a fixed list of items in a shopping list), but there are other loops as well.\n",
        "\n",
        "*Change the code below to print all elements of your list:*"
      ]
    },
    {
      "cell_type": "code",
      "metadata": {
        "id": "hrSVVOz2Uzm9",
        "outputId": "88cd2014-75cb-451c-d7fc-25b786d27611",
        "colab": {
          "base_uri": "https://localhost:8080/"
        }
      },
      "source": [
        "your_list = ['a','b','c','d']\n",
        "\n",
        "for i in your_list :\n",
        "  print (your_list)"
      ],
      "execution_count": 27,
      "outputs": [
        {
          "output_type": "stream",
          "name": "stdout",
          "text": [
            "['a', 'b', 'c', 'd']\n",
            "['a', 'b', 'c', 'd']\n",
            "['a', 'b', 'c', 'd']\n",
            "['a', 'b', 'c', 'd']\n"
          ]
        }
      ]
    },
    {
      "cell_type": "markdown",
      "source": [
        "kann i auch mit eingabe ersetzten"
      ],
      "metadata": {
        "id": "mz1N2oeJpAy6"
      }
    },
    {
      "cell_type": "markdown",
      "metadata": {
        "id": "XBlj6_t8efo8"
      },
      "source": [
        "**Range**\n",
        "\n",
        "The range() function returns a sequence of numbers. By default, it starts from 0, increments by 1 and stops before the specified number.\n",
        "\n",
        "*The code below should generate a list containing all of the integers, up to 10 (not incl.). Please change the following code (...):*"
      ]
    },
    {
      "cell_type": "code",
      "metadata": {
        "id": "jeR4mJGUlad7",
        "outputId": "827b6f8f-804f-4397-cc54-9dd724c2b00b",
        "colab": {
          "base_uri": "https://localhost:8080/"
        }
      },
      "source": [
        "numbers = list(range(4,10,2))\n",
        "\n",
        "print(numbers)"
      ],
      "execution_count": 29,
      "outputs": [
        {
          "output_type": "stream",
          "name": "stdout",
          "text": [
            "[4, 6, 8]\n"
          ]
        }
      ]
    },
    {
      "cell_type": "markdown",
      "source": [
        "range geht nur bis eingegebene zahl, wenn ich 4,10,2 sit letzte zahl = step also abstand zwischen genannten zahlen"
      ],
      "metadata": {
        "id": "gFSgipk9pE9m"
      }
    },
    {
      "cell_type": "markdown",
      "metadata": {
        "id": "OwuxHmxllTwN"
      },
      "source": [
        "##**Functions & Modules**"
      ]
    },
    {
      "cell_type": "markdown",
      "metadata": {
        "id": "EMtDBH2Xe6kR"
      },
      "source": [
        "**Functions**\n",
        "\n",
        "In addition to using pre-defined functions like range() or print(), you can create your own functions by using the def statement. You have to define functions before they are called! This is especially useful, if you want to do similar operations again and again.\n",
        "\n",
        "*Try for yourself and build a function \"double_hello\" which prints \"hello\" two times.*\n"
      ]
    },
    {
      "cell_type": "code",
      "metadata": {
        "id": "pHnpri3gHXV8"
      },
      "source": [
        "def double_hello():\n",
        "  # build a proper loop to print your output two times\n",
        "  for i in range(3) :\n",
        "    print ('hello')\n"
      ],
      "execution_count": 34,
      "outputs": []
    },
    {
      "cell_type": "markdown",
      "metadata": {
        "id": "aDR8mvcz-q1e"
      },
      "source": [
        "*Now call your function and see if it prints 'hello' three times:*"
      ]
    },
    {
      "cell_type": "code",
      "metadata": {
        "id": "Z8N9zB0V8jq7",
        "outputId": "6847b008-49b9-48ff-c7a5-b64a38d2d36a",
        "colab": {
          "base_uri": "https://localhost:8080/"
        }
      },
      "source": [
        "double_hello()"
      ],
      "execution_count": 35,
      "outputs": [
        {
          "output_type": "stream",
          "name": "stdout",
          "text": [
            "hello\n",
            "hello\n",
            "hello\n"
          ]
        }
      ]
    },
    {
      "cell_type": "markdown",
      "metadata": {
        "id": "K5e3PBnT9G0o"
      },
      "source": [
        "**<strong><font color='blue'> Side Note:**  Python can take any form of object as input to a function AND (almost) everything in Python is an object !! </font></strong>\n",
        "\n"
      ]
    },
    {
      "cell_type": "markdown",
      "metadata": {
        "id": "-caDGUcZLO9j"
      },
      "source": [
        "It is also possible to define a function that takes an argument.\n",
        "\n",
        "*Fill in the ... to define a function that prints whether the first given paramter is greater or equal than the second paramter - or not:*"
      ]
    },
    {
      "cell_type": "code",
      "metadata": {
        "id": "OixS1ZvgAPJk",
        "outputId": "dd523d51-d64b-4a4c-8ea9-cf008e66f4a2",
        "colab": {
          "base_uri": "https://localhost:8080/"
        }
      },
      "source": [
        "def compare(x, y):\n",
        "  if x >= y:\n",
        "    print('x is greater or equal y')\n",
        "  else:\n",
        "    print('x is smaller than y')\n",
        "\n",
        "compare(10,5)"
      ],
      "execution_count": 39,
      "outputs": [
        {
          "output_type": "stream",
          "name": "stdout",
          "text": [
            "x is greater or equal y\n"
          ]
        }
      ]
    },
    {
      "cell_type": "markdown",
      "metadata": {
        "id": "lks5vCIQgFBR"
      },
      "source": [
        "**Modules & Libraries**\n",
        "\n",
        "Modules refer to a file containing Python functions. A file containing Python code, for example: example.py, is called a module, and its module name would be example. The basic way to use a mdule is to add import *some_module_name* at the top of your code, and then using *some_module_name*.var to access functions and values with the name var in the module. This allows you to access complex functions programmed by other people.\n",
        "\n"
      ]
    },
    {
      "cell_type": "markdown",
      "metadata": {
        "id": "pvTTfdOUm96f"
      },
      "source": [
        "*Please import only the pi constant from the respective module and print pi:*"
      ]
    },
    {
      "cell_type": "code",
      "metadata": {
        "id": "Mfxt3G-Ym-wd",
        "outputId": "6efdbb0f-872c-42f6-bbc8-f07035c1746c",
        "colab": {
          "base_uri": "https://localhost:8080/"
        }
      },
      "source": [
        "from math import pi\n",
        "\n",
        "print(pi)"
      ],
      "execution_count": 40,
      "outputs": [
        {
          "output_type": "stream",
          "name": "stdout",
          "text": [
            "3.141592653589793\n"
          ]
        }
      ]
    },
    {
      "cell_type": "markdown",
      "source": [
        "##**Pandas - Working with tables**"
      ],
      "metadata": {
        "id": "45mzJt_37Ce9"
      }
    },
    {
      "cell_type": "markdown",
      "source": [
        "Please import the pandas module as pd"
      ],
      "metadata": {
        "id": "o_tzrVY1LZZZ"
      }
    },
    {
      "cell_type": "code",
      "source": [
        "import pandas as pd\n"
      ],
      "metadata": {
        "id": "1o8eaO5TLYRH"
      },
      "execution_count": 41,
      "outputs": []
    },
    {
      "cell_type": "markdown",
      "source": [
        "**Data upload**\n",
        "\n",
        "Download the following dataset: https://github.com/CustomerInsightUHH/EWF/blob/main/datasets/UE_Bier.csv\n",
        "\n",
        "Please upload dataset using the ![grafik.png](data:image/png;base64,iVBORw0KGgoAAAANSUhEUgAAABcAAAASCAYAAACw50UTAAAAoklEQVQ4jWP4T0PAgC7w5+2D/7/uHMLA/769p8zwP28f/H9RyIUVv+m2INkCFMM/b2/BafiLQq7/r5s0/r+b4o4Vf1pfSpzhb7rN/7+d4kY0ftNt/v9FIdf/H5c2ETb85+2DJHn/5+2D/18Ucv3/vL1l1PBRw6lp+NeDU7AWAbjw14NTCBuOL/sTg/+8fYDbcJgFP28fJBmjG4zVcGqCoWs4ACyC6jqlDexRAAAAAElFTkSuQmCC)-button on the left.\n",
        "\n",
        "![colab.png](data:image/png;base64,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)\n",
        "\n",
        "The following code will load the dataset if uploaded correctly. Typically, a table is called a dataframe or df for short."
      ],
      "metadata": {
        "id": "PUMYHFUO7M3p"
      }
    },
    {
      "cell_type": "code",
      "source": [
        "from google.colab import drive\n",
        "drive.mount('/content/drive')"
      ],
      "metadata": {
        "id": "SMHJjNI0r2Yx",
        "outputId": "8a4a3421-46a6-486b-ed48-482f7741aa55",
        "colab": {
          "base_uri": "https://localhost:8080/",
          "height": 304
        }
      },
      "execution_count": 42,
      "outputs": [
        {
          "output_type": "error",
          "ename": "MessageError",
          "evalue": "Error: credential propagation was unsuccessful",
          "traceback": [
            "\u001b[0;31m---------------------------------------------------------------------------\u001b[0m",
            "\u001b[0;31mMessageError\u001b[0m                              Traceback (most recent call last)",
            "\u001b[0;32m<ipython-input-42-d5df0069828e>\u001b[0m in \u001b[0;36m<cell line: 2>\u001b[0;34m()\u001b[0m\n\u001b[1;32m      1\u001b[0m \u001b[0;32mfrom\u001b[0m \u001b[0mgoogle\u001b[0m\u001b[0;34m.\u001b[0m\u001b[0mcolab\u001b[0m \u001b[0;32mimport\u001b[0m \u001b[0mdrive\u001b[0m\u001b[0;34m\u001b[0m\u001b[0;34m\u001b[0m\u001b[0m\n\u001b[0;32m----> 2\u001b[0;31m \u001b[0mdrive\u001b[0m\u001b[0;34m.\u001b[0m\u001b[0mmount\u001b[0m\u001b[0;34m(\u001b[0m\u001b[0;34m'/content/drive'\u001b[0m\u001b[0;34m)\u001b[0m\u001b[0;34m\u001b[0m\u001b[0;34m\u001b[0m\u001b[0m\n\u001b[0m",
            "\u001b[0;32m/usr/local/lib/python3.10/dist-packages/google/colab/drive.py\u001b[0m in \u001b[0;36mmount\u001b[0;34m(mountpoint, force_remount, timeout_ms, readonly)\u001b[0m\n\u001b[1;32m     98\u001b[0m \u001b[0;32mdef\u001b[0m \u001b[0mmount\u001b[0m\u001b[0;34m(\u001b[0m\u001b[0mmountpoint\u001b[0m\u001b[0;34m,\u001b[0m \u001b[0mforce_remount\u001b[0m\u001b[0;34m=\u001b[0m\u001b[0;32mFalse\u001b[0m\u001b[0;34m,\u001b[0m \u001b[0mtimeout_ms\u001b[0m\u001b[0;34m=\u001b[0m\u001b[0;36m120000\u001b[0m\u001b[0;34m,\u001b[0m \u001b[0mreadonly\u001b[0m\u001b[0;34m=\u001b[0m\u001b[0;32mFalse\u001b[0m\u001b[0;34m)\u001b[0m\u001b[0;34m:\u001b[0m\u001b[0;34m\u001b[0m\u001b[0;34m\u001b[0m\u001b[0m\n\u001b[1;32m     99\u001b[0m   \u001b[0;34m\"\"\"Mount your Google Drive at the specified mountpoint path.\"\"\"\u001b[0m\u001b[0;34m\u001b[0m\u001b[0;34m\u001b[0m\u001b[0m\n\u001b[0;32m--> 100\u001b[0;31m   return _mount(\n\u001b[0m\u001b[1;32m    101\u001b[0m       \u001b[0mmountpoint\u001b[0m\u001b[0;34m,\u001b[0m\u001b[0;34m\u001b[0m\u001b[0;34m\u001b[0m\u001b[0m\n\u001b[1;32m    102\u001b[0m       \u001b[0mforce_remount\u001b[0m\u001b[0;34m=\u001b[0m\u001b[0mforce_remount\u001b[0m\u001b[0;34m,\u001b[0m\u001b[0;34m\u001b[0m\u001b[0;34m\u001b[0m\u001b[0m\n",
            "\u001b[0;32m/usr/local/lib/python3.10/dist-packages/google/colab/drive.py\u001b[0m in \u001b[0;36m_mount\u001b[0;34m(mountpoint, force_remount, timeout_ms, ephemeral, readonly)\u001b[0m\n\u001b[1;32m    135\u001b[0m   )\n\u001b[1;32m    136\u001b[0m   \u001b[0;32mif\u001b[0m \u001b[0mephemeral\u001b[0m\u001b[0;34m:\u001b[0m\u001b[0;34m\u001b[0m\u001b[0;34m\u001b[0m\u001b[0m\n\u001b[0;32m--> 137\u001b[0;31m     _message.blocking_request(\n\u001b[0m\u001b[1;32m    138\u001b[0m         \u001b[0;34m'request_auth'\u001b[0m\u001b[0;34m,\u001b[0m\u001b[0;34m\u001b[0m\u001b[0;34m\u001b[0m\u001b[0m\n\u001b[1;32m    139\u001b[0m         \u001b[0mrequest\u001b[0m\u001b[0;34m=\u001b[0m\u001b[0;34m{\u001b[0m\u001b[0;34m'authType'\u001b[0m\u001b[0;34m:\u001b[0m \u001b[0;34m'dfs_ephemeral'\u001b[0m\u001b[0;34m}\u001b[0m\u001b[0;34m,\u001b[0m\u001b[0;34m\u001b[0m\u001b[0;34m\u001b[0m\u001b[0m\n",
            "\u001b[0;32m/usr/local/lib/python3.10/dist-packages/google/colab/_message.py\u001b[0m in \u001b[0;36mblocking_request\u001b[0;34m(request_type, request, timeout_sec, parent)\u001b[0m\n\u001b[1;32m    174\u001b[0m       \u001b[0mrequest_type\u001b[0m\u001b[0;34m,\u001b[0m \u001b[0mrequest\u001b[0m\u001b[0;34m,\u001b[0m \u001b[0mparent\u001b[0m\u001b[0;34m=\u001b[0m\u001b[0mparent\u001b[0m\u001b[0;34m,\u001b[0m \u001b[0mexpect_reply\u001b[0m\u001b[0;34m=\u001b[0m\u001b[0;32mTrue\u001b[0m\u001b[0;34m\u001b[0m\u001b[0;34m\u001b[0m\u001b[0m\n\u001b[1;32m    175\u001b[0m   )\n\u001b[0;32m--> 176\u001b[0;31m   \u001b[0;32mreturn\u001b[0m \u001b[0mread_reply_from_input\u001b[0m\u001b[0;34m(\u001b[0m\u001b[0mrequest_id\u001b[0m\u001b[0;34m,\u001b[0m \u001b[0mtimeout_sec\u001b[0m\u001b[0;34m)\u001b[0m\u001b[0;34m\u001b[0m\u001b[0;34m\u001b[0m\u001b[0m\n\u001b[0m",
            "\u001b[0;32m/usr/local/lib/python3.10/dist-packages/google/colab/_message.py\u001b[0m in \u001b[0;36mread_reply_from_input\u001b[0;34m(message_id, timeout_sec)\u001b[0m\n\u001b[1;32m    101\u001b[0m     ):\n\u001b[1;32m    102\u001b[0m       \u001b[0;32mif\u001b[0m \u001b[0;34m'error'\u001b[0m \u001b[0;32min\u001b[0m \u001b[0mreply\u001b[0m\u001b[0;34m:\u001b[0m\u001b[0;34m\u001b[0m\u001b[0;34m\u001b[0m\u001b[0m\n\u001b[0;32m--> 103\u001b[0;31m         \u001b[0;32mraise\u001b[0m \u001b[0mMessageError\u001b[0m\u001b[0;34m(\u001b[0m\u001b[0mreply\u001b[0m\u001b[0;34m[\u001b[0m\u001b[0;34m'error'\u001b[0m\u001b[0;34m]\u001b[0m\u001b[0;34m)\u001b[0m\u001b[0;34m\u001b[0m\u001b[0;34m\u001b[0m\u001b[0m\n\u001b[0m\u001b[1;32m    104\u001b[0m       \u001b[0;32mreturn\u001b[0m \u001b[0mreply\u001b[0m\u001b[0;34m.\u001b[0m\u001b[0mget\u001b[0m\u001b[0;34m(\u001b[0m\u001b[0;34m'data'\u001b[0m\u001b[0;34m,\u001b[0m \u001b[0;32mNone\u001b[0m\u001b[0;34m)\u001b[0m\u001b[0;34m\u001b[0m\u001b[0;34m\u001b[0m\u001b[0m\n\u001b[1;32m    105\u001b[0m \u001b[0;34m\u001b[0m\u001b[0m\n",
            "\u001b[0;31mMessageError\u001b[0m: Error: credential propagation was unsuccessful"
          ]
        }
      ]
    },
    {
      "cell_type": "code",
      "source": [
        "df = pd.read_csv('./UE_Bier.csv')"
      ],
      "metadata": {
        "id": "Jgr1e1lJ7HM5"
      },
      "execution_count": 43,
      "outputs": []
    },
    {
      "cell_type": "markdown",
      "source": [
        "Take a look at the top 5 rows of the dataframe"
      ],
      "metadata": {
        "id": "ZVJe2MEC9jQu"
      }
    },
    {
      "cell_type": "code",
      "source": [
        "df.head()"
      ],
      "metadata": {
        "id": "BsgS496fLn72",
        "outputId": "714e608a-94f6-4f83-ee71-ceb6899a2a4b",
        "colab": {
          "base_uri": "https://localhost:8080/",
          "height": 255
        }
      },
      "execution_count": 45,
      "outputs": [
        {
          "output_type": "execute_result",
          "data": {
            "text/plain": [
              "   id  männlich  bildungsgrad  Hauptschule  Realschule  Gymnasium  Studium  \\\n",
              "0   1         1             3            0           0          1        0   \n",
              "1   2         1             2            0           1          0        0   \n",
              "2   3         0             1            1           0          0        0   \n",
              "3   4         0             2            0           1          0        0   \n",
              "4   5         1             4            0           0          0        1   \n",
              "\n",
              "   alter  einkommen  bierausgaben  ...  Produkt_1  Produkt_2  Produkt_3  \\\n",
              "0     34      87738    817.030029  ...          3          4          7   \n",
              "1     64     103594    669.289978  ...          2          4          6   \n",
              "2     69      71489    369.630005  ...          5          8          9   \n",
              "3     26      46337    530.520020  ...          4          7          1   \n",
              "4     40      83658    924.190002  ...          5          7          8   \n",
              "\n",
              "   Produkt_4  Produkt_5  Produkt_6  Produkt_7  Produkt_8  Produkt_9  \\\n",
              "0          8          9          1          6         10          2   \n",
              "1          8          9         10          5          7          3   \n",
              "2          1          3          4          6          2          7   \n",
              "3          5          6          8          9         10          2   \n",
              "4          9          2          6         10          1          4   \n",
              "\n",
              "   Produkt_10  \n",
              "0           5  \n",
              "1           1  \n",
              "2          10  \n",
              "3           3  \n",
              "4           3  \n",
              "\n",
              "[5 rows x 21 columns]"
            ],
            "text/html": [
              "\n",
              "  <div id=\"df-110505ed-cb68-4399-8fec-b65c856bd6dd\" class=\"colab-df-container\">\n",
              "    <div>\n",
              "<style scoped>\n",
              "    .dataframe tbody tr th:only-of-type {\n",
              "        vertical-align: middle;\n",
              "    }\n",
              "\n",
              "    .dataframe tbody tr th {\n",
              "        vertical-align: top;\n",
              "    }\n",
              "\n",
              "    .dataframe thead th {\n",
              "        text-align: right;\n",
              "    }\n",
              "</style>\n",
              "<table border=\"1\" class=\"dataframe\">\n",
              "  <thead>\n",
              "    <tr style=\"text-align: right;\">\n",
              "      <th></th>\n",
              "      <th>id</th>\n",
              "      <th>männlich</th>\n",
              "      <th>bildungsgrad</th>\n",
              "      <th>Hauptschule</th>\n",
              "      <th>Realschule</th>\n",
              "      <th>Gymnasium</th>\n",
              "      <th>Studium</th>\n",
              "      <th>alter</th>\n",
              "      <th>einkommen</th>\n",
              "      <th>bierausgaben</th>\n",
              "      <th>...</th>\n",
              "      <th>Produkt_1</th>\n",
              "      <th>Produkt_2</th>\n",
              "      <th>Produkt_3</th>\n",
              "      <th>Produkt_4</th>\n",
              "      <th>Produkt_5</th>\n",
              "      <th>Produkt_6</th>\n",
              "      <th>Produkt_7</th>\n",
              "      <th>Produkt_8</th>\n",
              "      <th>Produkt_9</th>\n",
              "      <th>Produkt_10</th>\n",
              "    </tr>\n",
              "  </thead>\n",
              "  <tbody>\n",
              "    <tr>\n",
              "      <th>0</th>\n",
              "      <td>1</td>\n",
              "      <td>1</td>\n",
              "      <td>3</td>\n",
              "      <td>0</td>\n",
              "      <td>0</td>\n",
              "      <td>1</td>\n",
              "      <td>0</td>\n",
              "      <td>34</td>\n",
              "      <td>87738</td>\n",
              "      <td>817.030029</td>\n",
              "      <td>...</td>\n",
              "      <td>3</td>\n",
              "      <td>4</td>\n",
              "      <td>7</td>\n",
              "      <td>8</td>\n",
              "      <td>9</td>\n",
              "      <td>1</td>\n",
              "      <td>6</td>\n",
              "      <td>10</td>\n",
              "      <td>2</td>\n",
              "      <td>5</td>\n",
              "    </tr>\n",
              "    <tr>\n",
              "      <th>1</th>\n",
              "      <td>2</td>\n",
              "      <td>1</td>\n",
              "      <td>2</td>\n",
              "      <td>0</td>\n",
              "      <td>1</td>\n",
              "      <td>0</td>\n",
              "      <td>0</td>\n",
              "      <td>64</td>\n",
              "      <td>103594</td>\n",
              "      <td>669.289978</td>\n",
              "      <td>...</td>\n",
              "      <td>2</td>\n",
              "      <td>4</td>\n",
              "      <td>6</td>\n",
              "      <td>8</td>\n",
              "      <td>9</td>\n",
              "      <td>10</td>\n",
              "      <td>5</td>\n",
              "      <td>7</td>\n",
              "      <td>3</td>\n",
              "      <td>1</td>\n",
              "    </tr>\n",
              "    <tr>\n",
              "      <th>2</th>\n",
              "      <td>3</td>\n",
              "      <td>0</td>\n",
              "      <td>1</td>\n",
              "      <td>1</td>\n",
              "      <td>0</td>\n",
              "      <td>0</td>\n",
              "      <td>0</td>\n",
              "      <td>69</td>\n",
              "      <td>71489</td>\n",
              "      <td>369.630005</td>\n",
              "      <td>...</td>\n",
              "      <td>5</td>\n",
              "      <td>8</td>\n",
              "      <td>9</td>\n",
              "      <td>1</td>\n",
              "      <td>3</td>\n",
              "      <td>4</td>\n",
              "      <td>6</td>\n",
              "      <td>2</td>\n",
              "      <td>7</td>\n",
              "      <td>10</td>\n",
              "    </tr>\n",
              "    <tr>\n",
              "      <th>3</th>\n",
              "      <td>4</td>\n",
              "      <td>0</td>\n",
              "      <td>2</td>\n",
              "      <td>0</td>\n",
              "      <td>1</td>\n",
              "      <td>0</td>\n",
              "      <td>0</td>\n",
              "      <td>26</td>\n",
              "      <td>46337</td>\n",
              "      <td>530.520020</td>\n",
              "      <td>...</td>\n",
              "      <td>4</td>\n",
              "      <td>7</td>\n",
              "      <td>1</td>\n",
              "      <td>5</td>\n",
              "      <td>6</td>\n",
              "      <td>8</td>\n",
              "      <td>9</td>\n",
              "      <td>10</td>\n",
              "      <td>2</td>\n",
              "      <td>3</td>\n",
              "    </tr>\n",
              "    <tr>\n",
              "      <th>4</th>\n",
              "      <td>5</td>\n",
              "      <td>1</td>\n",
              "      <td>4</td>\n",
              "      <td>0</td>\n",
              "      <td>0</td>\n",
              "      <td>0</td>\n",
              "      <td>1</td>\n",
              "      <td>40</td>\n",
              "      <td>83658</td>\n",
              "      <td>924.190002</td>\n",
              "      <td>...</td>\n",
              "      <td>5</td>\n",
              "      <td>7</td>\n",
              "      <td>8</td>\n",
              "      <td>9</td>\n",
              "      <td>2</td>\n",
              "      <td>6</td>\n",
              "      <td>10</td>\n",
              "      <td>1</td>\n",
              "      <td>4</td>\n",
              "      <td>3</td>\n",
              "    </tr>\n",
              "  </tbody>\n",
              "</table>\n",
              "<p>5 rows × 21 columns</p>\n",
              "</div>\n",
              "    <div class=\"colab-df-buttons\">\n",
              "\n",
              "  <div class=\"colab-df-container\">\n",
              "    <button class=\"colab-df-convert\" onclick=\"convertToInteractive('df-110505ed-cb68-4399-8fec-b65c856bd6dd')\"\n",
              "            title=\"Convert this dataframe to an interactive table.\"\n",
              "            style=\"display:none;\">\n",
              "\n",
              "  <svg xmlns=\"http://www.w3.org/2000/svg\" height=\"24px\" viewBox=\"0 -960 960 960\">\n",
              "    <path d=\"M120-120v-720h720v720H120Zm60-500h600v-160H180v160Zm220 220h160v-160H400v160Zm0 220h160v-160H400v160ZM180-400h160v-160H180v160Zm440 0h160v-160H620v160ZM180-180h160v-160H180v160Zm440 0h160v-160H620v160Z\"/>\n",
              "  </svg>\n",
              "    </button>\n",
              "\n",
              "  <style>\n",
              "    .colab-df-container {\n",
              "      display:flex;\n",
              "      gap: 12px;\n",
              "    }\n",
              "\n",
              "    .colab-df-convert {\n",
              "      background-color: #E8F0FE;\n",
              "      border: none;\n",
              "      border-radius: 50%;\n",
              "      cursor: pointer;\n",
              "      display: none;\n",
              "      fill: #1967D2;\n",
              "      height: 32px;\n",
              "      padding: 0 0 0 0;\n",
              "      width: 32px;\n",
              "    }\n",
              "\n",
              "    .colab-df-convert:hover {\n",
              "      background-color: #E2EBFA;\n",
              "      box-shadow: 0px 1px 2px rgba(60, 64, 67, 0.3), 0px 1px 3px 1px rgba(60, 64, 67, 0.15);\n",
              "      fill: #174EA6;\n",
              "    }\n",
              "\n",
              "    .colab-df-buttons div {\n",
              "      margin-bottom: 4px;\n",
              "    }\n",
              "\n",
              "    [theme=dark] .colab-df-convert {\n",
              "      background-color: #3B4455;\n",
              "      fill: #D2E3FC;\n",
              "    }\n",
              "\n",
              "    [theme=dark] .colab-df-convert:hover {\n",
              "      background-color: #434B5C;\n",
              "      box-shadow: 0px 1px 3px 1px rgba(0, 0, 0, 0.15);\n",
              "      filter: drop-shadow(0px 1px 2px rgba(0, 0, 0, 0.3));\n",
              "      fill: #FFFFFF;\n",
              "    }\n",
              "  </style>\n",
              "\n",
              "    <script>\n",
              "      const buttonEl =\n",
              "        document.querySelector('#df-110505ed-cb68-4399-8fec-b65c856bd6dd button.colab-df-convert');\n",
              "      buttonEl.style.display =\n",
              "        google.colab.kernel.accessAllowed ? 'block' : 'none';\n",
              "\n",
              "      async function convertToInteractive(key) {\n",
              "        const element = document.querySelector('#df-110505ed-cb68-4399-8fec-b65c856bd6dd');\n",
              "        const dataTable =\n",
              "          await google.colab.kernel.invokeFunction('convertToInteractive',\n",
              "                                                    [key], {});\n",
              "        if (!dataTable) return;\n",
              "\n",
              "        const docLinkHtml = 'Like what you see? Visit the ' +\n",
              "          '<a target=\"_blank\" href=https://colab.research.google.com/notebooks/data_table.ipynb>data table notebook</a>'\n",
              "          + ' to learn more about interactive tables.';\n",
              "        element.innerHTML = '';\n",
              "        dataTable['output_type'] = 'display_data';\n",
              "        await google.colab.output.renderOutput(dataTable, element);\n",
              "        const docLink = document.createElement('div');\n",
              "        docLink.innerHTML = docLinkHtml;\n",
              "        element.appendChild(docLink);\n",
              "      }\n",
              "    </script>\n",
              "  </div>\n",
              "\n",
              "\n",
              "<div id=\"df-ec3e9968-e558-4679-83d7-dddf0f9baa44\">\n",
              "  <button class=\"colab-df-quickchart\" onclick=\"quickchart('df-ec3e9968-e558-4679-83d7-dddf0f9baa44')\"\n",
              "            title=\"Suggest charts\"\n",
              "            style=\"display:none;\">\n",
              "\n",
              "<svg xmlns=\"http://www.w3.org/2000/svg\" height=\"24px\"viewBox=\"0 0 24 24\"\n",
              "     width=\"24px\">\n",
              "    <g>\n",
              "        <path d=\"M19 3H5c-1.1 0-2 .9-2 2v14c0 1.1.9 2 2 2h14c1.1 0 2-.9 2-2V5c0-1.1-.9-2-2-2zM9 17H7v-7h2v7zm4 0h-2V7h2v10zm4 0h-2v-4h2v4z\"/>\n",
              "    </g>\n",
              "</svg>\n",
              "  </button>\n",
              "\n",
              "<style>\n",
              "  .colab-df-quickchart {\n",
              "      --bg-color: #E8F0FE;\n",
              "      --fill-color: #1967D2;\n",
              "      --hover-bg-color: #E2EBFA;\n",
              "      --hover-fill-color: #174EA6;\n",
              "      --disabled-fill-color: #AAA;\n",
              "      --disabled-bg-color: #DDD;\n",
              "  }\n",
              "\n",
              "  [theme=dark] .colab-df-quickchart {\n",
              "      --bg-color: #3B4455;\n",
              "      --fill-color: #D2E3FC;\n",
              "      --hover-bg-color: #434B5C;\n",
              "      --hover-fill-color: #FFFFFF;\n",
              "      --disabled-bg-color: #3B4455;\n",
              "      --disabled-fill-color: #666;\n",
              "  }\n",
              "\n",
              "  .colab-df-quickchart {\n",
              "    background-color: var(--bg-color);\n",
              "    border: none;\n",
              "    border-radius: 50%;\n",
              "    cursor: pointer;\n",
              "    display: none;\n",
              "    fill: var(--fill-color);\n",
              "    height: 32px;\n",
              "    padding: 0;\n",
              "    width: 32px;\n",
              "  }\n",
              "\n",
              "  .colab-df-quickchart:hover {\n",
              "    background-color: var(--hover-bg-color);\n",
              "    box-shadow: 0 1px 2px rgba(60, 64, 67, 0.3), 0 1px 3px 1px rgba(60, 64, 67, 0.15);\n",
              "    fill: var(--button-hover-fill-color);\n",
              "  }\n",
              "\n",
              "  .colab-df-quickchart-complete:disabled,\n",
              "  .colab-df-quickchart-complete:disabled:hover {\n",
              "    background-color: var(--disabled-bg-color);\n",
              "    fill: var(--disabled-fill-color);\n",
              "    box-shadow: none;\n",
              "  }\n",
              "\n",
              "  .colab-df-spinner {\n",
              "    border: 2px solid var(--fill-color);\n",
              "    border-color: transparent;\n",
              "    border-bottom-color: var(--fill-color);\n",
              "    animation:\n",
              "      spin 1s steps(1) infinite;\n",
              "  }\n",
              "\n",
              "  @keyframes spin {\n",
              "    0% {\n",
              "      border-color: transparent;\n",
              "      border-bottom-color: var(--fill-color);\n",
              "      border-left-color: var(--fill-color);\n",
              "    }\n",
              "    20% {\n",
              "      border-color: transparent;\n",
              "      border-left-color: var(--fill-color);\n",
              "      border-top-color: var(--fill-color);\n",
              "    }\n",
              "    30% {\n",
              "      border-color: transparent;\n",
              "      border-left-color: var(--fill-color);\n",
              "      border-top-color: var(--fill-color);\n",
              "      border-right-color: var(--fill-color);\n",
              "    }\n",
              "    40% {\n",
              "      border-color: transparent;\n",
              "      border-right-color: var(--fill-color);\n",
              "      border-top-color: var(--fill-color);\n",
              "    }\n",
              "    60% {\n",
              "      border-color: transparent;\n",
              "      border-right-color: var(--fill-color);\n",
              "    }\n",
              "    80% {\n",
              "      border-color: transparent;\n",
              "      border-right-color: var(--fill-color);\n",
              "      border-bottom-color: var(--fill-color);\n",
              "    }\n",
              "    90% {\n",
              "      border-color: transparent;\n",
              "      border-bottom-color: var(--fill-color);\n",
              "    }\n",
              "  }\n",
              "</style>\n",
              "\n",
              "  <script>\n",
              "    async function quickchart(key) {\n",
              "      const quickchartButtonEl =\n",
              "        document.querySelector('#' + key + ' button');\n",
              "      quickchartButtonEl.disabled = true;  // To prevent multiple clicks.\n",
              "      quickchartButtonEl.classList.add('colab-df-spinner');\n",
              "      try {\n",
              "        const charts = await google.colab.kernel.invokeFunction(\n",
              "            'suggestCharts', [key], {});\n",
              "      } catch (error) {\n",
              "        console.error('Error during call to suggestCharts:', error);\n",
              "      }\n",
              "      quickchartButtonEl.classList.remove('colab-df-spinner');\n",
              "      quickchartButtonEl.classList.add('colab-df-quickchart-complete');\n",
              "    }\n",
              "    (() => {\n",
              "      let quickchartButtonEl =\n",
              "        document.querySelector('#df-ec3e9968-e558-4679-83d7-dddf0f9baa44 button');\n",
              "      quickchartButtonEl.style.display =\n",
              "        google.colab.kernel.accessAllowed ? 'block' : 'none';\n",
              "    })();\n",
              "  </script>\n",
              "</div>\n",
              "\n",
              "    </div>\n",
              "  </div>\n"
            ],
            "application/vnd.google.colaboratory.intrinsic+json": {
              "type": "dataframe",
              "variable_name": "df"
            }
          },
          "metadata": {},
          "execution_count": 45
        }
      ]
    },
    {
      "cell_type": "markdown",
      "source": [
        "Take a look at the 3rd row only"
      ],
      "metadata": {
        "id": "su7NAJpWLiV2"
      }
    },
    {
      "cell_type": "code",
      "source": [
        "df.iloc[2]"
      ],
      "metadata": {
        "id": "Q28yG97TLh7I",
        "outputId": "eb7159e3-bdc5-453e-9556-aefbf29204a1",
        "colab": {
          "base_uri": "https://localhost:8080/",
          "height": 742
        }
      },
      "execution_count": 48,
      "outputs": [
        {
          "output_type": "execute_result",
          "data": {
            "text/plain": [
              "id                  3.000000\n",
              "männlich            0.000000\n",
              "bildungsgrad        1.000000\n",
              "Hauptschule         1.000000\n",
              "Realschule          0.000000\n",
              "Gymnasium           0.000000\n",
              "Studium             0.000000\n",
              "alter              69.000000\n",
              "einkommen       71489.000000\n",
              "bierausgaben      369.630005\n",
              "yuppiebräu          1.000000\n",
              "Produkt_1           5.000000\n",
              "Produkt_2           8.000000\n",
              "Produkt_3           9.000000\n",
              "Produkt_4           1.000000\n",
              "Produkt_5           3.000000\n",
              "Produkt_6           4.000000\n",
              "Produkt_7           6.000000\n",
              "Produkt_8           2.000000\n",
              "Produkt_9           7.000000\n",
              "Produkt_10         10.000000\n",
              "Name: 2, dtype: float64"
            ],
            "text/html": [
              "<div>\n",
              "<style scoped>\n",
              "    .dataframe tbody tr th:only-of-type {\n",
              "        vertical-align: middle;\n",
              "    }\n",
              "\n",
              "    .dataframe tbody tr th {\n",
              "        vertical-align: top;\n",
              "    }\n",
              "\n",
              "    .dataframe thead th {\n",
              "        text-align: right;\n",
              "    }\n",
              "</style>\n",
              "<table border=\"1\" class=\"dataframe\">\n",
              "  <thead>\n",
              "    <tr style=\"text-align: right;\">\n",
              "      <th></th>\n",
              "      <th>2</th>\n",
              "    </tr>\n",
              "  </thead>\n",
              "  <tbody>\n",
              "    <tr>\n",
              "      <th>id</th>\n",
              "      <td>3.000000</td>\n",
              "    </tr>\n",
              "    <tr>\n",
              "      <th>männlich</th>\n",
              "      <td>0.000000</td>\n",
              "    </tr>\n",
              "    <tr>\n",
              "      <th>bildungsgrad</th>\n",
              "      <td>1.000000</td>\n",
              "    </tr>\n",
              "    <tr>\n",
              "      <th>Hauptschule</th>\n",
              "      <td>1.000000</td>\n",
              "    </tr>\n",
              "    <tr>\n",
              "      <th>Realschule</th>\n",
              "      <td>0.000000</td>\n",
              "    </tr>\n",
              "    <tr>\n",
              "      <th>Gymnasium</th>\n",
              "      <td>0.000000</td>\n",
              "    </tr>\n",
              "    <tr>\n",
              "      <th>Studium</th>\n",
              "      <td>0.000000</td>\n",
              "    </tr>\n",
              "    <tr>\n",
              "      <th>alter</th>\n",
              "      <td>69.000000</td>\n",
              "    </tr>\n",
              "    <tr>\n",
              "      <th>einkommen</th>\n",
              "      <td>71489.000000</td>\n",
              "    </tr>\n",
              "    <tr>\n",
              "      <th>bierausgaben</th>\n",
              "      <td>369.630005</td>\n",
              "    </tr>\n",
              "    <tr>\n",
              "      <th>yuppiebräu</th>\n",
              "      <td>1.000000</td>\n",
              "    </tr>\n",
              "    <tr>\n",
              "      <th>Produkt_1</th>\n",
              "      <td>5.000000</td>\n",
              "    </tr>\n",
              "    <tr>\n",
              "      <th>Produkt_2</th>\n",
              "      <td>8.000000</td>\n",
              "    </tr>\n",
              "    <tr>\n",
              "      <th>Produkt_3</th>\n",
              "      <td>9.000000</td>\n",
              "    </tr>\n",
              "    <tr>\n",
              "      <th>Produkt_4</th>\n",
              "      <td>1.000000</td>\n",
              "    </tr>\n",
              "    <tr>\n",
              "      <th>Produkt_5</th>\n",
              "      <td>3.000000</td>\n",
              "    </tr>\n",
              "    <tr>\n",
              "      <th>Produkt_6</th>\n",
              "      <td>4.000000</td>\n",
              "    </tr>\n",
              "    <tr>\n",
              "      <th>Produkt_7</th>\n",
              "      <td>6.000000</td>\n",
              "    </tr>\n",
              "    <tr>\n",
              "      <th>Produkt_8</th>\n",
              "      <td>2.000000</td>\n",
              "    </tr>\n",
              "    <tr>\n",
              "      <th>Produkt_9</th>\n",
              "      <td>7.000000</td>\n",
              "    </tr>\n",
              "    <tr>\n",
              "      <th>Produkt_10</th>\n",
              "      <td>10.000000</td>\n",
              "    </tr>\n",
              "  </tbody>\n",
              "</table>\n",
              "</div><br><label><b>dtype:</b> float64</label>"
            ]
          },
          "metadata": {},
          "execution_count": 48
        }
      ]
    },
    {
      "cell_type": "markdown",
      "source": [
        "Filter for all the rows with 'männlich' equal to 1"
      ],
      "metadata": {
        "id": "k9iwJ_nxLvAi"
      }
    },
    {
      "cell_type": "code",
      "source": [
        "df.loc[df['männlich'] == 1]"
      ],
      "metadata": {
        "id": "LNAXqHiXLuWo",
        "outputId": "31aaa427-cda6-45ef-b4c7-3eb9ac661158",
        "colab": {
          "base_uri": "https://localhost:8080/",
          "height": 443
        }
      },
      "execution_count": 49,
      "outputs": [
        {
          "output_type": "execute_result",
          "data": {
            "text/plain": [
              "      id  männlich  bildungsgrad  Hauptschule  Realschule  Gymnasium  Studium  \\\n",
              "0      1         1             3            0           0          1        0   \n",
              "1      2         1             2            0           1          0        0   \n",
              "4      5         1             4            0           0          0        1   \n",
              "9     10         1             4            0           0          0        1   \n",
              "10    11         1             2            0           1          0        0   \n",
              "..   ...       ...           ...          ...         ...        ...      ...   \n",
              "459  460         1             3            0           0          1        0   \n",
              "460  461         1             2            0           1          0        0   \n",
              "462  463         1             2            0           1          0        0   \n",
              "464  465         1             3            0           0          1        0   \n",
              "466  467         1             4            0           0          0        1   \n",
              "\n",
              "     alter  einkommen  bierausgaben  ...  Produkt_1  Produkt_2  Produkt_3  \\\n",
              "0       34      87738    817.030029  ...          3          4          7   \n",
              "1       64     103594    669.289978  ...          2          4          6   \n",
              "4       40      83658    924.190002  ...          5          7          8   \n",
              "9       42     109637    801.260010  ...          5          8          2   \n",
              "10      33      51238    737.630005  ...          1          2          5   \n",
              "..     ...        ...           ...  ...        ...        ...        ...   \n",
              "459     38      77891    913.760010  ...          2          4          5   \n",
              "460     31      64545    755.969971  ...          2          3          6   \n",
              "462     69      96371    784.250000  ...          8          9          2   \n",
              "464     61     110787    822.539978  ...          5          7          8   \n",
              "466     47      88615   1031.380005  ...          5          8         10   \n",
              "\n",
              "     Produkt_4  Produkt_5  Produkt_6  Produkt_7  Produkt_8  Produkt_9  \\\n",
              "0            8          9          1          6         10          2   \n",
              "1            8          9         10          5          7          3   \n",
              "4            9          2          6         10          1          4   \n",
              "9            3          4          6          7          9         10   \n",
              "10           8          9         10          3          4          6   \n",
              "..         ...        ...        ...        ...        ...        ...   \n",
              "459          9          3          6          7         10          8   \n",
              "460          1          5          8          9         10          7   \n",
              "462          3          4          6          7         10          1   \n",
              "464          9          3          4          1          2          6   \n",
              "466          2          3          4          7          9          6   \n",
              "\n",
              "     Produkt_10  \n",
              "0             5  \n",
              "1             1  \n",
              "4             3  \n",
              "9             1  \n",
              "10            7  \n",
              "..          ...  \n",
              "459           1  \n",
              "460           4  \n",
              "462           5  \n",
              "464          10  \n",
              "466           1  \n",
              "\n",
              "[238 rows x 21 columns]"
            ],
            "text/html": [
              "\n",
              "  <div id=\"df-b3152d08-a5d3-4f01-b213-a7ddcc8113db\" class=\"colab-df-container\">\n",
              "    <div>\n",
              "<style scoped>\n",
              "    .dataframe tbody tr th:only-of-type {\n",
              "        vertical-align: middle;\n",
              "    }\n",
              "\n",
              "    .dataframe tbody tr th {\n",
              "        vertical-align: top;\n",
              "    }\n",
              "\n",
              "    .dataframe thead th {\n",
              "        text-align: right;\n",
              "    }\n",
              "</style>\n",
              "<table border=\"1\" class=\"dataframe\">\n",
              "  <thead>\n",
              "    <tr style=\"text-align: right;\">\n",
              "      <th></th>\n",
              "      <th>id</th>\n",
              "      <th>männlich</th>\n",
              "      <th>bildungsgrad</th>\n",
              "      <th>Hauptschule</th>\n",
              "      <th>Realschule</th>\n",
              "      <th>Gymnasium</th>\n",
              "      <th>Studium</th>\n",
              "      <th>alter</th>\n",
              "      <th>einkommen</th>\n",
              "      <th>bierausgaben</th>\n",
              "      <th>...</th>\n",
              "      <th>Produkt_1</th>\n",
              "      <th>Produkt_2</th>\n",
              "      <th>Produkt_3</th>\n",
              "      <th>Produkt_4</th>\n",
              "      <th>Produkt_5</th>\n",
              "      <th>Produkt_6</th>\n",
              "      <th>Produkt_7</th>\n",
              "      <th>Produkt_8</th>\n",
              "      <th>Produkt_9</th>\n",
              "      <th>Produkt_10</th>\n",
              "    </tr>\n",
              "  </thead>\n",
              "  <tbody>\n",
              "    <tr>\n",
              "      <th>0</th>\n",
              "      <td>1</td>\n",
              "      <td>1</td>\n",
              "      <td>3</td>\n",
              "      <td>0</td>\n",
              "      <td>0</td>\n",
              "      <td>1</td>\n",
              "      <td>0</td>\n",
              "      <td>34</td>\n",
              "      <td>87738</td>\n",
              "      <td>817.030029</td>\n",
              "      <td>...</td>\n",
              "      <td>3</td>\n",
              "      <td>4</td>\n",
              "      <td>7</td>\n",
              "      <td>8</td>\n",
              "      <td>9</td>\n",
              "      <td>1</td>\n",
              "      <td>6</td>\n",
              "      <td>10</td>\n",
              "      <td>2</td>\n",
              "      <td>5</td>\n",
              "    </tr>\n",
              "    <tr>\n",
              "      <th>1</th>\n",
              "      <td>2</td>\n",
              "      <td>1</td>\n",
              "      <td>2</td>\n",
              "      <td>0</td>\n",
              "      <td>1</td>\n",
              "      <td>0</td>\n",
              "      <td>0</td>\n",
              "      <td>64</td>\n",
              "      <td>103594</td>\n",
              "      <td>669.289978</td>\n",
              "      <td>...</td>\n",
              "      <td>2</td>\n",
              "      <td>4</td>\n",
              "      <td>6</td>\n",
              "      <td>8</td>\n",
              "      <td>9</td>\n",
              "      <td>10</td>\n",
              "      <td>5</td>\n",
              "      <td>7</td>\n",
              "      <td>3</td>\n",
              "      <td>1</td>\n",
              "    </tr>\n",
              "    <tr>\n",
              "      <th>4</th>\n",
              "      <td>5</td>\n",
              "      <td>1</td>\n",
              "      <td>4</td>\n",
              "      <td>0</td>\n",
              "      <td>0</td>\n",
              "      <td>0</td>\n",
              "      <td>1</td>\n",
              "      <td>40</td>\n",
              "      <td>83658</td>\n",
              "      <td>924.190002</td>\n",
              "      <td>...</td>\n",
              "      <td>5</td>\n",
              "      <td>7</td>\n",
              "      <td>8</td>\n",
              "      <td>9</td>\n",
              "      <td>2</td>\n",
              "      <td>6</td>\n",
              "      <td>10</td>\n",
              "      <td>1</td>\n",
              "      <td>4</td>\n",
              "      <td>3</td>\n",
              "    </tr>\n",
              "    <tr>\n",
              "      <th>9</th>\n",
              "      <td>10</td>\n",
              "      <td>1</td>\n",
              "      <td>4</td>\n",
              "      <td>0</td>\n",
              "      <td>0</td>\n",
              "      <td>0</td>\n",
              "      <td>1</td>\n",
              "      <td>42</td>\n",
              "      <td>109637</td>\n",
              "      <td>801.260010</td>\n",
              "      <td>...</td>\n",
              "      <td>5</td>\n",
              "      <td>8</td>\n",
              "      <td>2</td>\n",
              "      <td>3</td>\n",
              "      <td>4</td>\n",
              "      <td>6</td>\n",
              "      <td>7</td>\n",
              "      <td>9</td>\n",
              "      <td>10</td>\n",
              "      <td>1</td>\n",
              "    </tr>\n",
              "    <tr>\n",
              "      <th>10</th>\n",
              "      <td>11</td>\n",
              "      <td>1</td>\n",
              "      <td>2</td>\n",
              "      <td>0</td>\n",
              "      <td>1</td>\n",
              "      <td>0</td>\n",
              "      <td>0</td>\n",
              "      <td>33</td>\n",
              "      <td>51238</td>\n",
              "      <td>737.630005</td>\n",
              "      <td>...</td>\n",
              "      <td>1</td>\n",
              "      <td>2</td>\n",
              "      <td>5</td>\n",
              "      <td>8</td>\n",
              "      <td>9</td>\n",
              "      <td>10</td>\n",
              "      <td>3</td>\n",
              "      <td>4</td>\n",
              "      <td>6</td>\n",
              "      <td>7</td>\n",
              "    </tr>\n",
              "    <tr>\n",
              "      <th>...</th>\n",
              "      <td>...</td>\n",
              "      <td>...</td>\n",
              "      <td>...</td>\n",
              "      <td>...</td>\n",
              "      <td>...</td>\n",
              "      <td>...</td>\n",
              "      <td>...</td>\n",
              "      <td>...</td>\n",
              "      <td>...</td>\n",
              "      <td>...</td>\n",
              "      <td>...</td>\n",
              "      <td>...</td>\n",
              "      <td>...</td>\n",
              "      <td>...</td>\n",
              "      <td>...</td>\n",
              "      <td>...</td>\n",
              "      <td>...</td>\n",
              "      <td>...</td>\n",
              "      <td>...</td>\n",
              "      <td>...</td>\n",
              "      <td>...</td>\n",
              "    </tr>\n",
              "    <tr>\n",
              "      <th>459</th>\n",
              "      <td>460</td>\n",
              "      <td>1</td>\n",
              "      <td>3</td>\n",
              "      <td>0</td>\n",
              "      <td>0</td>\n",
              "      <td>1</td>\n",
              "      <td>0</td>\n",
              "      <td>38</td>\n",
              "      <td>77891</td>\n",
              "      <td>913.760010</td>\n",
              "      <td>...</td>\n",
              "      <td>2</td>\n",
              "      <td>4</td>\n",
              "      <td>5</td>\n",
              "      <td>9</td>\n",
              "      <td>3</td>\n",
              "      <td>6</td>\n",
              "      <td>7</td>\n",
              "      <td>10</td>\n",
              "      <td>8</td>\n",
              "      <td>1</td>\n",
              "    </tr>\n",
              "    <tr>\n",
              "      <th>460</th>\n",
              "      <td>461</td>\n",
              "      <td>1</td>\n",
              "      <td>2</td>\n",
              "      <td>0</td>\n",
              "      <td>1</td>\n",
              "      <td>0</td>\n",
              "      <td>0</td>\n",
              "      <td>31</td>\n",
              "      <td>64545</td>\n",
              "      <td>755.969971</td>\n",
              "      <td>...</td>\n",
              "      <td>2</td>\n",
              "      <td>3</td>\n",
              "      <td>6</td>\n",
              "      <td>1</td>\n",
              "      <td>5</td>\n",
              "      <td>8</td>\n",
              "      <td>9</td>\n",
              "      <td>10</td>\n",
              "      <td>7</td>\n",
              "      <td>4</td>\n",
              "    </tr>\n",
              "    <tr>\n",
              "      <th>462</th>\n",
              "      <td>463</td>\n",
              "      <td>1</td>\n",
              "      <td>2</td>\n",
              "      <td>0</td>\n",
              "      <td>1</td>\n",
              "      <td>0</td>\n",
              "      <td>0</td>\n",
              "      <td>69</td>\n",
              "      <td>96371</td>\n",
              "      <td>784.250000</td>\n",
              "      <td>...</td>\n",
              "      <td>8</td>\n",
              "      <td>9</td>\n",
              "      <td>2</td>\n",
              "      <td>3</td>\n",
              "      <td>4</td>\n",
              "      <td>6</td>\n",
              "      <td>7</td>\n",
              "      <td>10</td>\n",
              "      <td>1</td>\n",
              "      <td>5</td>\n",
              "    </tr>\n",
              "    <tr>\n",
              "      <th>464</th>\n",
              "      <td>465</td>\n",
              "      <td>1</td>\n",
              "      <td>3</td>\n",
              "      <td>0</td>\n",
              "      <td>0</td>\n",
              "      <td>1</td>\n",
              "      <td>0</td>\n",
              "      <td>61</td>\n",
              "      <td>110787</td>\n",
              "      <td>822.539978</td>\n",
              "      <td>...</td>\n",
              "      <td>5</td>\n",
              "      <td>7</td>\n",
              "      <td>8</td>\n",
              "      <td>9</td>\n",
              "      <td>3</td>\n",
              "      <td>4</td>\n",
              "      <td>1</td>\n",
              "      <td>2</td>\n",
              "      <td>6</td>\n",
              "      <td>10</td>\n",
              "    </tr>\n",
              "    <tr>\n",
              "      <th>466</th>\n",
              "      <td>467</td>\n",
              "      <td>1</td>\n",
              "      <td>4</td>\n",
              "      <td>0</td>\n",
              "      <td>0</td>\n",
              "      <td>0</td>\n",
              "      <td>1</td>\n",
              "      <td>47</td>\n",
              "      <td>88615</td>\n",
              "      <td>1031.380005</td>\n",
              "      <td>...</td>\n",
              "      <td>5</td>\n",
              "      <td>8</td>\n",
              "      <td>10</td>\n",
              "      <td>2</td>\n",
              "      <td>3</td>\n",
              "      <td>4</td>\n",
              "      <td>7</td>\n",
              "      <td>9</td>\n",
              "      <td>6</td>\n",
              "      <td>1</td>\n",
              "    </tr>\n",
              "  </tbody>\n",
              "</table>\n",
              "<p>238 rows × 21 columns</p>\n",
              "</div>\n",
              "    <div class=\"colab-df-buttons\">\n",
              "\n",
              "  <div class=\"colab-df-container\">\n",
              "    <button class=\"colab-df-convert\" onclick=\"convertToInteractive('df-b3152d08-a5d3-4f01-b213-a7ddcc8113db')\"\n",
              "            title=\"Convert this dataframe to an interactive table.\"\n",
              "            style=\"display:none;\">\n",
              "\n",
              "  <svg xmlns=\"http://www.w3.org/2000/svg\" height=\"24px\" viewBox=\"0 -960 960 960\">\n",
              "    <path d=\"M120-120v-720h720v720H120Zm60-500h600v-160H180v160Zm220 220h160v-160H400v160Zm0 220h160v-160H400v160ZM180-400h160v-160H180v160Zm440 0h160v-160H620v160ZM180-180h160v-160H180v160Zm440 0h160v-160H620v160Z\"/>\n",
              "  </svg>\n",
              "    </button>\n",
              "\n",
              "  <style>\n",
              "    .colab-df-container {\n",
              "      display:flex;\n",
              "      gap: 12px;\n",
              "    }\n",
              "\n",
              "    .colab-df-convert {\n",
              "      background-color: #E8F0FE;\n",
              "      border: none;\n",
              "      border-radius: 50%;\n",
              "      cursor: pointer;\n",
              "      display: none;\n",
              "      fill: #1967D2;\n",
              "      height: 32px;\n",
              "      padding: 0 0 0 0;\n",
              "      width: 32px;\n",
              "    }\n",
              "\n",
              "    .colab-df-convert:hover {\n",
              "      background-color: #E2EBFA;\n",
              "      box-shadow: 0px 1px 2px rgba(60, 64, 67, 0.3), 0px 1px 3px 1px rgba(60, 64, 67, 0.15);\n",
              "      fill: #174EA6;\n",
              "    }\n",
              "\n",
              "    .colab-df-buttons div {\n",
              "      margin-bottom: 4px;\n",
              "    }\n",
              "\n",
              "    [theme=dark] .colab-df-convert {\n",
              "      background-color: #3B4455;\n",
              "      fill: #D2E3FC;\n",
              "    }\n",
              "\n",
              "    [theme=dark] .colab-df-convert:hover {\n",
              "      background-color: #434B5C;\n",
              "      box-shadow: 0px 1px 3px 1px rgba(0, 0, 0, 0.15);\n",
              "      filter: drop-shadow(0px 1px 2px rgba(0, 0, 0, 0.3));\n",
              "      fill: #FFFFFF;\n",
              "    }\n",
              "  </style>\n",
              "\n",
              "    <script>\n",
              "      const buttonEl =\n",
              "        document.querySelector('#df-b3152d08-a5d3-4f01-b213-a7ddcc8113db button.colab-df-convert');\n",
              "      buttonEl.style.display =\n",
              "        google.colab.kernel.accessAllowed ? 'block' : 'none';\n",
              "\n",
              "      async function convertToInteractive(key) {\n",
              "        const element = document.querySelector('#df-b3152d08-a5d3-4f01-b213-a7ddcc8113db');\n",
              "        const dataTable =\n",
              "          await google.colab.kernel.invokeFunction('convertToInteractive',\n",
              "                                                    [key], {});\n",
              "        if (!dataTable) return;\n",
              "\n",
              "        const docLinkHtml = 'Like what you see? Visit the ' +\n",
              "          '<a target=\"_blank\" href=https://colab.research.google.com/notebooks/data_table.ipynb>data table notebook</a>'\n",
              "          + ' to learn more about interactive tables.';\n",
              "        element.innerHTML = '';\n",
              "        dataTable['output_type'] = 'display_data';\n",
              "        await google.colab.output.renderOutput(dataTable, element);\n",
              "        const docLink = document.createElement('div');\n",
              "        docLink.innerHTML = docLinkHtml;\n",
              "        element.appendChild(docLink);\n",
              "      }\n",
              "    </script>\n",
              "  </div>\n",
              "\n",
              "\n",
              "<div id=\"df-c022e185-1720-4cfa-97b9-9bdb785c841f\">\n",
              "  <button class=\"colab-df-quickchart\" onclick=\"quickchart('df-c022e185-1720-4cfa-97b9-9bdb785c841f')\"\n",
              "            title=\"Suggest charts\"\n",
              "            style=\"display:none;\">\n",
              "\n",
              "<svg xmlns=\"http://www.w3.org/2000/svg\" height=\"24px\"viewBox=\"0 0 24 24\"\n",
              "     width=\"24px\">\n",
              "    <g>\n",
              "        <path d=\"M19 3H5c-1.1 0-2 .9-2 2v14c0 1.1.9 2 2 2h14c1.1 0 2-.9 2-2V5c0-1.1-.9-2-2-2zM9 17H7v-7h2v7zm4 0h-2V7h2v10zm4 0h-2v-4h2v4z\"/>\n",
              "    </g>\n",
              "</svg>\n",
              "  </button>\n",
              "\n",
              "<style>\n",
              "  .colab-df-quickchart {\n",
              "      --bg-color: #E8F0FE;\n",
              "      --fill-color: #1967D2;\n",
              "      --hover-bg-color: #E2EBFA;\n",
              "      --hover-fill-color: #174EA6;\n",
              "      --disabled-fill-color: #AAA;\n",
              "      --disabled-bg-color: #DDD;\n",
              "  }\n",
              "\n",
              "  [theme=dark] .colab-df-quickchart {\n",
              "      --bg-color: #3B4455;\n",
              "      --fill-color: #D2E3FC;\n",
              "      --hover-bg-color: #434B5C;\n",
              "      --hover-fill-color: #FFFFFF;\n",
              "      --disabled-bg-color: #3B4455;\n",
              "      --disabled-fill-color: #666;\n",
              "  }\n",
              "\n",
              "  .colab-df-quickchart {\n",
              "    background-color: var(--bg-color);\n",
              "    border: none;\n",
              "    border-radius: 50%;\n",
              "    cursor: pointer;\n",
              "    display: none;\n",
              "    fill: var(--fill-color);\n",
              "    height: 32px;\n",
              "    padding: 0;\n",
              "    width: 32px;\n",
              "  }\n",
              "\n",
              "  .colab-df-quickchart:hover {\n",
              "    background-color: var(--hover-bg-color);\n",
              "    box-shadow: 0 1px 2px rgba(60, 64, 67, 0.3), 0 1px 3px 1px rgba(60, 64, 67, 0.15);\n",
              "    fill: var(--button-hover-fill-color);\n",
              "  }\n",
              "\n",
              "  .colab-df-quickchart-complete:disabled,\n",
              "  .colab-df-quickchart-complete:disabled:hover {\n",
              "    background-color: var(--disabled-bg-color);\n",
              "    fill: var(--disabled-fill-color);\n",
              "    box-shadow: none;\n",
              "  }\n",
              "\n",
              "  .colab-df-spinner {\n",
              "    border: 2px solid var(--fill-color);\n",
              "    border-color: transparent;\n",
              "    border-bottom-color: var(--fill-color);\n",
              "    animation:\n",
              "      spin 1s steps(1) infinite;\n",
              "  }\n",
              "\n",
              "  @keyframes spin {\n",
              "    0% {\n",
              "      border-color: transparent;\n",
              "      border-bottom-color: var(--fill-color);\n",
              "      border-left-color: var(--fill-color);\n",
              "    }\n",
              "    20% {\n",
              "      border-color: transparent;\n",
              "      border-left-color: var(--fill-color);\n",
              "      border-top-color: var(--fill-color);\n",
              "    }\n",
              "    30% {\n",
              "      border-color: transparent;\n",
              "      border-left-color: var(--fill-color);\n",
              "      border-top-color: var(--fill-color);\n",
              "      border-right-color: var(--fill-color);\n",
              "    }\n",
              "    40% {\n",
              "      border-color: transparent;\n",
              "      border-right-color: var(--fill-color);\n",
              "      border-top-color: var(--fill-color);\n",
              "    }\n",
              "    60% {\n",
              "      border-color: transparent;\n",
              "      border-right-color: var(--fill-color);\n",
              "    }\n",
              "    80% {\n",
              "      border-color: transparent;\n",
              "      border-right-color: var(--fill-color);\n",
              "      border-bottom-color: var(--fill-color);\n",
              "    }\n",
              "    90% {\n",
              "      border-color: transparent;\n",
              "      border-bottom-color: var(--fill-color);\n",
              "    }\n",
              "  }\n",
              "</style>\n",
              "\n",
              "  <script>\n",
              "    async function quickchart(key) {\n",
              "      const quickchartButtonEl =\n",
              "        document.querySelector('#' + key + ' button');\n",
              "      quickchartButtonEl.disabled = true;  // To prevent multiple clicks.\n",
              "      quickchartButtonEl.classList.add('colab-df-spinner');\n",
              "      try {\n",
              "        const charts = await google.colab.kernel.invokeFunction(\n",
              "            'suggestCharts', [key], {});\n",
              "      } catch (error) {\n",
              "        console.error('Error during call to suggestCharts:', error);\n",
              "      }\n",
              "      quickchartButtonEl.classList.remove('colab-df-spinner');\n",
              "      quickchartButtonEl.classList.add('colab-df-quickchart-complete');\n",
              "    }\n",
              "    (() => {\n",
              "      let quickchartButtonEl =\n",
              "        document.querySelector('#df-c022e185-1720-4cfa-97b9-9bdb785c841f button');\n",
              "      quickchartButtonEl.style.display =\n",
              "        google.colab.kernel.accessAllowed ? 'block' : 'none';\n",
              "    })();\n",
              "  </script>\n",
              "</div>\n",
              "\n",
              "    </div>\n",
              "  </div>\n"
            ],
            "application/vnd.google.colaboratory.intrinsic+json": {
              "type": "dataframe"
            }
          },
          "metadata": {},
          "execution_count": 49
        }
      ]
    },
    {
      "cell_type": "markdown",
      "source": [
        "How often does each gender appear in the dataset? Use a appropriate function to find out."
      ],
      "metadata": {
        "id": "9lUPjPo0L0Cs"
      }
    },
    {
      "cell_type": "code",
      "source": [
        "df.einkommen.value_counts()"
      ],
      "metadata": {
        "id": "P3CpP0QuLhMZ",
        "outputId": "acd7236b-6406-4ce0-85bd-a4100892d198",
        "colab": {
          "base_uri": "https://localhost:8080/",
          "height": 489
        }
      },
      "execution_count": 51,
      "outputs": [
        {
          "output_type": "execute_result",
          "data": {
            "text/plain": [
              "einkommen\n",
              "73351     2\n",
              "51351     2\n",
              "82900     2\n",
              "81500     1\n",
              "57110     1\n",
              "         ..\n",
              "118357    1\n",
              "69576     1\n",
              "48717     1\n",
              "83636     1\n",
              "88615     1\n",
              "Name: count, Length: 464, dtype: int64"
            ],
            "text/html": [
              "<div>\n",
              "<style scoped>\n",
              "    .dataframe tbody tr th:only-of-type {\n",
              "        vertical-align: middle;\n",
              "    }\n",
              "\n",
              "    .dataframe tbody tr th {\n",
              "        vertical-align: top;\n",
              "    }\n",
              "\n",
              "    .dataframe thead th {\n",
              "        text-align: right;\n",
              "    }\n",
              "</style>\n",
              "<table border=\"1\" class=\"dataframe\">\n",
              "  <thead>\n",
              "    <tr style=\"text-align: right;\">\n",
              "      <th></th>\n",
              "      <th>count</th>\n",
              "    </tr>\n",
              "    <tr>\n",
              "      <th>einkommen</th>\n",
              "      <th></th>\n",
              "    </tr>\n",
              "  </thead>\n",
              "  <tbody>\n",
              "    <tr>\n",
              "      <th>73351</th>\n",
              "      <td>2</td>\n",
              "    </tr>\n",
              "    <tr>\n",
              "      <th>51351</th>\n",
              "      <td>2</td>\n",
              "    </tr>\n",
              "    <tr>\n",
              "      <th>82900</th>\n",
              "      <td>2</td>\n",
              "    </tr>\n",
              "    <tr>\n",
              "      <th>81500</th>\n",
              "      <td>1</td>\n",
              "    </tr>\n",
              "    <tr>\n",
              "      <th>57110</th>\n",
              "      <td>1</td>\n",
              "    </tr>\n",
              "    <tr>\n",
              "      <th>...</th>\n",
              "      <td>...</td>\n",
              "    </tr>\n",
              "    <tr>\n",
              "      <th>118357</th>\n",
              "      <td>1</td>\n",
              "    </tr>\n",
              "    <tr>\n",
              "      <th>69576</th>\n",
              "      <td>1</td>\n",
              "    </tr>\n",
              "    <tr>\n",
              "      <th>48717</th>\n",
              "      <td>1</td>\n",
              "    </tr>\n",
              "    <tr>\n",
              "      <th>83636</th>\n",
              "      <td>1</td>\n",
              "    </tr>\n",
              "    <tr>\n",
              "      <th>88615</th>\n",
              "      <td>1</td>\n",
              "    </tr>\n",
              "  </tbody>\n",
              "</table>\n",
              "<p>464 rows × 1 columns</p>\n",
              "</div><br><label><b>dtype:</b> int64</label>"
            ]
          },
          "metadata": {},
          "execution_count": 51
        }
      ]
    },
    {
      "cell_type": "markdown",
      "source": [
        "So far \"Einkommen\" is treated as a nominal variable - how can we turn it into a categorical one?"
      ],
      "metadata": {
        "id": "MnpYkJcoMrQ3"
      }
    },
    {
      "cell_type": "code",
      "source": [
        "categories=[\"< 1000\", \"1000 - < 2000\", \"2000 - < 4000\", \"4000 - < 6000\", \"> 6000\"]\n",
        "df['einkommen_kategorien'] = pd.cut(df['einkommen'], bins=[0, 1000, 2000, 4000, 6000, 100000], labels=categories)"
      ],
      "metadata": {
        "id": "-yd7hF2YMdyt"
      },
      "execution_count": 56,
      "outputs": []
    },
    {
      "cell_type": "markdown",
      "source": [
        "Pandas can also help visualizing data.Try to create a normal bar plot for age."
      ],
      "metadata": {
        "id": "A9BOPSpKNTaN"
      }
    },
    {
      "cell_type": "code",
      "source": [
        "df.alter.value_counts().sort_index().plot.bar()"
      ],
      "metadata": {
        "id": "OdketXagNZqO",
        "outputId": "88df36d8-e63c-4f1a-ca0d-4f368037349d",
        "colab": {
          "base_uri": "https://localhost:8080/",
          "height": 470
        }
      },
      "execution_count": 59,
      "outputs": [
        {
          "output_type": "execute_result",
          "data": {
            "text/plain": [
              "<Axes: xlabel='alter'>"
            ]
          },
          "metadata": {},
          "execution_count": 59
        },
        {
          "output_type": "display_data",
          "data": {
            "text/plain": [
              "<Figure size 640x480 with 1 Axes>"
            ],
            "image/png": "[encoded data removed]"
          },
          "metadata": {}
        }
      ]
    },
    {
      "cell_type": "markdown",
      "source": [
        "Now, can we turn this into a histogram, to get an idea about the age distribution in our dataset?"
      ],
      "metadata": {
        "id": "3_C9rDCtNeBj"
      }
    },
    {
      "cell_type": "code",
      "source": [
        "df.alter.plot.hist()"
      ],
      "metadata": {
        "id": "ax9ZcMjTNdYi",
        "outputId": "800ae8e0-bd7e-411e-d7b3-69bd88ee73d8",
        "colab": {
          "base_uri": "https://localhost:8080/",
          "height": 447
        }
      },
      "execution_count": 62,
      "outputs": [
        {
          "output_type": "execute_result",
          "data": {
            "text/plain": [
              "<Axes: ylabel='Frequency'>"
            ]
          },
          "metadata": {},
          "execution_count": 62
        },
        {
          "output_type": "display_data",
          "data": {
            "text/plain": [
              "<Figure size 640x480 with 1 Axes>"
            ],
            "image/png": "[encoded data removed]"
          },
          "metadata": {}
        }
      ]
    },
    {
      "cell_type": "markdown",
      "source": [
        "##**End of Python Introduction - Congratulations ¯\\\\\\_(ツ)\\_/¯**\n"
      ],
      "metadata": {
        "id": "B725Z4XsOYux"
      }
    },
    {
      "cell_type": "markdown",
      "source": [
        "You have reached the end of this course. Feel free to play aound with some of the code snippets. You cannnot break anything in Colab and you can reload at any point.\n",
        "\n",
        "If you have any questions left, ask Google or your excercise instructor."
      ],
      "metadata": {
        "id": "l734kc80Os-1"
      }
    }
  ]
}